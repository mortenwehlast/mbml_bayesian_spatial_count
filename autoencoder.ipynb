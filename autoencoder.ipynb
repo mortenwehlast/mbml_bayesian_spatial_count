{
 "cells": [
  {
   "cell_type": "code",
   "execution_count": 1,
   "metadata": {},
   "outputs": [],
   "source": [
    "import matplotlib.pyplot as plt\n",
    "import numpy as np\n",
    "import torch\n",
    "from torch import nn, Tensor\n",
    "import torch.optim as optim\n",
    "\n",
    "from src.utils import load_data"
   ]
  },
  {
   "cell_type": "markdown",
   "metadata": {},
   "source": [
    "### Load data"
   ]
  },
  {
   "cell_type": "code",
   "execution_count": 11,
   "metadata": {},
   "outputs": [
    {
     "name": "stdout",
     "output_type": "stream",
     "text": [
      "Training:\n",
      "X-shape: (1676, 38), y-shape: (1676,)\n",
      "\n",
      "Testing:\n",
      "X-shape: (419, 38), y-shape: (419,)\n"
     ]
    }
   ],
   "source": [
    "X, y, _ = load_data(impute=True)\n",
    "X_train, X_test = X\n",
    "y_train, y_test = y\n",
    "print('Training:\\nX-shape: {}, y-shape: {}'.format(X_train.shape, y_train.shape))\n",
    "print('\\nTesting:\\nX-shape: {}, y-shape: {}'.format(X_test.shape, y_test.shape))"
   ]
  },
  {
   "cell_type": "code",
   "execution_count": 12,
   "metadata": {},
   "outputs": [],
   "source": [
    "# standardize input features\n",
    "X_train_mean = X_train.mean(axis=0)\n",
    "X_train_std = X_train.std(axis=0)\n",
    "X_train = (X_train - X_train_mean) / X_train_std\n",
    "X_test = (X_test - X_train_mean) / X_train_std"
   ]
  },
  {
   "cell_type": "code",
   "execution_count": 13,
   "metadata": {},
   "outputs": [],
   "source": [
    "# Prepare data for model.\n",
    "if not torch.is_tensor(X_train):\n",
    "    X_train = torch.tensor(np.array(X_train)).float()\n",
    "    X_test = torch.tensor(np.array(X_test)).float()\n",
    "    y_train = torch.tensor(y_train).float()    \n",
    "    y_test = torch.tensor(y_test).float()"
   ]
  },
  {
   "cell_type": "markdown",
   "metadata": {},
   "source": [
    "### Define autoencoder"
   ]
  },
  {
   "cell_type": "code",
   "execution_count": 14,
   "metadata": {},
   "outputs": [],
   "source": [
    "class Autoencoder(nn.Module):\n",
    "    \n",
    "    \"\"\"An autoencoder\"\"\"\n",
    "    \n",
    "    \n",
    "    def __init__(self, input_shape, latent_features):\n",
    "        super(Autoencoder, self).__init__()\n",
    "        \n",
    "        self.input_shape = input_shape\n",
    "        self.latent_features = latent_features\n",
    "        self.observation_features = np.prod(input_shape)\n",
    "\n",
    "        # Inference Network\n",
    "        # Encode the observation `x` into the parameters of the posterior distribution\n",
    "        # `q_\\phi(z|x) = N(z | \\mu(x), \\sigma(x)), \\mu(x),\\log\\sigma(x) = h_\\phi(x)`\n",
    "        self.encoder = nn.Sequential(\n",
    "            nn.Linear(in_features=self.observation_features, out_features=32),\n",
    "            nn.LeakyReLU(),\n",
    "            nn.Linear(in_features=32, out_features=24),\n",
    "            nn.Tanh(),\n",
    "            nn.Linear(in_features=24, out_features=latent_features)\n",
    "        )\n",
    "        \n",
    "        # Generative Model\n",
    "        # Decode the latent sample `z` into the parameters of the observation model\n",
    "        # `p_\\theta(x | z) = \\prod_i B(x_i | g_\\theta(x))`\n",
    "        self.decoder = nn.Sequential(\n",
    "            nn.Linear(in_features=latent_features, out_features=24),\n",
    "            nn.Tanh(),\n",
    "            nn.Linear(in_features=24, out_features=32),\n",
    "            nn.LeakyReLU(),\n",
    "            nn.Linear(in_features=32, out_features=self.observation_features)\n",
    "        )        \n",
    "\n",
    "    def forward(self, x):\n",
    "        \"\"\"Run encoder and decoder, and output latent space together with reconstruction.\"\"\"\n",
    "        \n",
    "        # Latent space\n",
    "        h = self.encoder(x)\n",
    "\n",
    "        y = self.decoder(h)\n",
    "        \n",
    "        return h, y\n",
    "    \n",
    "    def encode(self, x):\n",
    "        \"\"\"Run encoder and decoder, and output latent space together with reconstruction.\"\"\"\n",
    "        \n",
    "        # Latent space\n",
    "        h = self.encoder(x)\n",
    "        \n",
    "        return h\n"
   ]
  },
  {
   "cell_type": "code",
   "execution_count": 16,
   "metadata": {},
   "outputs": [
    {
     "name": "stdout",
     "output_type": "stream",
     "text": [
      "Autoencoder(\n",
      "  (encoder): Sequential(\n",
      "    (0): Linear(in_features=38, out_features=32, bias=True)\n",
      "    (1): LeakyReLU(negative_slope=0.01)\n",
      "    (2): Linear(in_features=32, out_features=24, bias=True)\n",
      "    (3): Tanh()\n",
      "    (4): Linear(in_features=24, out_features=18, bias=True)\n",
      "  )\n",
      "  (decoder): Sequential(\n",
      "    (0): Linear(in_features=18, out_features=24, bias=True)\n",
      "    (1): Tanh()\n",
      "    (2): Linear(in_features=24, out_features=32, bias=True)\n",
      "    (3): LeakyReLU(negative_slope=0.01)\n",
      "    (4): Linear(in_features=32, out_features=38, bias=True)\n",
      "  )\n",
      ")\n"
     ]
    }
   ],
   "source": [
    "latent_features = 18\n",
    "ae = Autoencoder(X_train.shape[1], latent_features)\n",
    "print(ae)"
   ]
  },
  {
   "cell_type": "code",
   "execution_count": 17,
   "metadata": {},
   "outputs": [
    {
     "name": "stdout",
     "output_type": "stream",
     "text": [
      "Running on device cpu\n"
     ]
    }
   ],
   "source": [
    "# Load model.\n",
    "device = torch.device('cpu' if not torch.cuda.is_available() else 'cuda')\n",
    "ae.to(device)\n",
    "print(\"Running on device\", device)"
   ]
  },
  {
   "cell_type": "markdown",
   "metadata": {},
   "source": [
    "Create data loader for batch handling"
   ]
  },
  {
   "cell_type": "code",
   "execution_count": 18,
   "metadata": {},
   "outputs": [],
   "source": [
    "from torch.utils.data import DataLoader, TensorDataset\n",
    "\n",
    "data_train = TensorDataset(X_train, y_train)\n",
    "\n",
    "batch_size = 64\n",
    "train_loader = torch.utils.data.DataLoader(\n",
    "    data_train, batch_size=batch_size, shuffle=True, num_workers=4, pin_memory=True\n",
    ")"
   ]
  },
  {
   "cell_type": "markdown",
   "metadata": {},
   "source": [
    "### Train network"
   ]
  },
  {
   "cell_type": "code",
   "execution_count": 19,
   "metadata": {},
   "outputs": [
    {
     "name": "stderr",
     "output_type": "stream",
     "text": [
      "epoch : 250/250, train_loss = 0.1130, test_loss = 0.1240: 100%|██████████| 250/250 [03:03<00:00,  1.36it/s]\n"
     ]
    }
   ],
   "source": [
    "from tqdm import tqdm\n",
    "\n",
    "# Train model.\n",
    "epochs = 250\n",
    "eval_every = 1\n",
    "\n",
    "criterion = nn.MSELoss()\n",
    "optimizer = optim.Adam(ae.parameters(), lr=0.0007)\n",
    "train_losses = []\n",
    "test_losses = []\n",
    "\n",
    "t = tqdm(range(epochs))\n",
    "for epoch in t:\n",
    "\n",
    "    # Training.\n",
    "    ae.train()    \n",
    "\n",
    "    for x, _ in train_loader:\n",
    "\n",
    "        x = x.to(device)\n",
    "        \n",
    "        h, x_recon = ae(x)\n",
    "        \n",
    "        optimizer.zero_grad()\n",
    "\n",
    "        # compute training reconstruction loss\n",
    "        loss = criterion(x_recon, x)\n",
    "        \n",
    "        # compute accumulated gradients\n",
    "        loss.backward()\n",
    "        \n",
    "        # perform parameter update based on current gradients\n",
    "        optimizer.step()\n",
    "        \n",
    "    ae.eval()\n",
    "    if epoch % eval_every == 0:\n",
    "        # Train evaluation.\n",
    "        x = X_train.to(device)\n",
    "        h, x_recon = ae(x)\n",
    "        # compute training reconstruction loss\n",
    "        train_loss = criterion(x_recon, x).item()\n",
    "        \n",
    "        x = X_test.to(device)\n",
    "        h, x_recon = ae(x)\n",
    "        # compute test reconstruction loss\n",
    "        test_loss = criterion(x_recon, x).item()\n",
    "        \n",
    "        train_losses.append(train_loss)\n",
    "        test_losses.append(test_loss)\n",
    "    \n",
    "    # display the epoch training loss\n",
    "    t.set_description(\"epoch : {}/{}, train_loss = {:.4f}, test_loss = {:.4f}\".format(epoch + 1, epochs, train_loss, test_loss))\n",
    "    t.refresh() # to show immediately the update\n",
    "    "
   ]
  },
  {
   "cell_type": "code",
   "execution_count": 20,
   "metadata": {},
   "outputs": [
    {
     "data": {
      "image/png": "[encoded data removed]",
      "text/plain": [
       "<Figure size 432x288 with 1 Axes>"
      ]
     },
     "metadata": {
      "needs_background": "light"
     },
     "output_type": "display_data"
    }
   ],
   "source": [
    "plt.figure()\n",
    "plt.plot(train_losses, label='Train loss')\n",
    "plt.plot(test_losses, label='Test loss')\n",
    "plt.legend()\n",
    "plt.xlabel('Epochs')\n",
    "plt.ylabel('MSE')\n",
    "plt.show()"
   ]
  },
  {
   "cell_type": "markdown",
   "metadata": {},
   "source": [
    "Plot example of reconstruction of the 35 features"
   ]
  },
  {
   "cell_type": "code",
   "execution_count": 23,
   "metadata": {},
   "outputs": [
    {
     "data": {
      "image/png": "[encoded data removed]",
      "text/plain": [
       "<Figure size 432x288 with 1 Axes>"
      ]
     },
     "metadata": {
      "needs_background": "light"
     },
     "output_type": "display_data"
    }
   ],
   "source": [
    "plt.show()\n",
    "plt.plot(X_train[1], label='Orig')\n",
    "plt.plot(ae(X_train[1].to(device))[1].detach().cpu().numpy(), label='Recon')\n",
    "plt.legend()\n",
    "plt.show()"
   ]
  },
  {
   "cell_type": "code",
   "execution_count": 24,
   "metadata": {},
   "outputs": [],
   "source": [
    "import pickle\n",
    "# Save the model to disk.\n",
    "filename = 'config/autoencoder_v1.pkl'\n",
    "pickle.dump(ae, open(filename, 'wb'))"
   ]
  }
 ],
 "metadata": {
  "kernelspec": {
   "display_name": "Python 3",
   "language": "python",
   "name": "python3"
  },
  "language_info": {
   "codemirror_mode": {
    "name": "ipython",
    "version": 3
   },
   "file_extension": ".py",
   "mimetype": "text/x-python",
   "name": "python",
   "nbconvert_exporter": "python",
   "pygments_lexer": "ipython3",
   "version": "3.9.2"
  }
 },
 "nbformat": 4,
 "nbformat_minor": 4
}
