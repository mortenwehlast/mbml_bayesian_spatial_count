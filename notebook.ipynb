{
 "metadata": {
  "language_info": {
   "codemirror_mode": {
    "name": "ipython",
    "version": 3
   },
   "file_extension": ".py",
   "mimetype": "text/x-python",
   "name": "python",
   "nbconvert_exporter": "python",
   "pygments_lexer": "ipython3",
   "version": "3.7.4-final"
  },
  "orig_nbformat": 2,
  "kernelspec": {
   "name": "python3",
   "display_name": "Python 3.7.4 64-bit ('base': conda)",
   "metadata": {
    "interpreter": {
     "hash": "dca0ade3e726a953b501b15e8e990130d2b7799f14cfd9f4271676035ebe5511"
    }
   }
  }
 },
 "nbformat": 4,
 "nbformat_minor": 2,
 "cells": [
  {
   "source": [
    "## 42186 Model-based Machine Learning - Bayesian Spatial Count\n",
    "\n",
    "Research topic: How may we model non-linear dependencies on the inputs $\\textbf{X}_i$?\n",
    "\n",
    "More specifically, we wish to determine the advantages and disadvantages of the following approaches:\n",
    "- Neural network \n",
    "- Hierarchical modelling\n",
    "\n",
    "For each area in data set, we observe a count of injuries, $y_i$. \n",
    "The normal apprach is to assume linear dependence such that\n",
    "$$\n",
    "y_i \\sim NB(r, p_i) \\\\\n",
    "p_i= \\frac{\\exp(\\psi_i)}{1+\\exp(\\psi_i)} \\\\\n",
    "\\psi_i = \\beta^T\\textbf{X}_i+\\phi_i\n",
    "$$\n",
    "\n",
    "Where $\\textbf{X}_i$ are the characteristics of the area and $\\phi_i$ is a correlated error term.\n",
    "\n",
    "### Neural Network\n",
    "\n",
    "Let $\\textbf{X}_i$ denote the characteristics of the i'th area. We now introduce a non-linear term on the inputs, such that\n",
    "$$\n",
    "\\psi_i = f_{\\text{linear}}(\\textbf{X}_i)+f_{\\text{nnet}}(\\textbf{X}_i)+\\phi_i.\n",
    "$$\n",
    "\n",
    "#### PGM\n",
    "\n",
    "#### Generative Process\n",
    "\n",
    "### Hierarchical model\n",
    "By inspection of the data, we see that groupings can be made based on feature [INSERT FEATURE]. Therefore, we now introduce a set of features [INSERT NOTATION] where feature [INSERT NOTATION] denotes the [INSERT FEATURE] of region $i$. Similarly, we introduce a shared global prior, that prevents overfitting by reducing the flexibility of the model. \n",
    "\n",
    "#### PGM\n",
    "\n",
    "#### Generative Process\n"
   ],
   "cell_type": "markdown",
   "metadata": {}
  },
  {
   "cell_type": "code",
   "execution_count": 1,
   "metadata": {},
   "outputs": [
    {
     "output_type": "stream",
     "name": "stdout",
     "text": [
      "Requirement already satisfied: pyro-ppl in /opt/anaconda3/lib/python3.7/site-packages (1.5.2)\n",
      "Requirement already satisfied: torch>=1.6<1.8 in /opt/anaconda3/lib/python3.7/site-packages (from pyro-ppl) (1.7.1)\n",
      "Requirement already satisfied: pyro-api>=0.1.1 in /opt/anaconda3/lib/python3.7/site-packages (from pyro-ppl) (0.1.2)\n",
      "Requirement already satisfied: opt-einsum>=2.3.2 in /opt/anaconda3/lib/python3.7/site-packages (from pyro-ppl) (3.3.0)\n",
      "Requirement already satisfied: tqdm>=4.36 in /opt/anaconda3/lib/python3.7/site-packages (from pyro-ppl) (4.36.1)\n",
      "Requirement already satisfied: numpy>=1.7 in /opt/anaconda3/lib/python3.7/site-packages (from pyro-ppl) (1.17.2)\n",
      "Requirement already satisfied: typing-extensions in /opt/anaconda3/lib/python3.7/site-packages (from torch>=1.6<1.8->pyro-ppl) (3.7.4.3)\n"
     ]
    }
   ],
   "source": [
    "# Load packages\n",
    "!pip install pyro-ppl\n",
    "\n",
    "import numpy as np\n",
    "import pandas as pd\n",
    "from matplotlib import pyplot as plt\n",
    "from sklearn import linear_model\n",
    "import seaborn as sns\n",
    "import torch\n",
    "\n",
    "import pyro\n",
    "import pyro.distributions as dist\n",
    "from pyro.contrib.autoguide import AutoDiagonalNormal, AutoMultivariateNormal\n",
    "from pyro.infer import MCMC, NUTS, HMC, SVI, Trace_ELBO\n",
    "from pyro.optim import Adam, ClippedAdam"
   ]
  },
  {
   "source": [
    "## Descriptive Statistics"
   ],
   "cell_type": "markdown",
   "metadata": {}
  },
  {
   "cell_type": "code",
   "execution_count": null,
   "metadata": {},
   "outputs": [],
   "source": []
  }
 ]
}