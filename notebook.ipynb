{
 "cells": [
  {
   "cell_type": "markdown",
   "metadata": {},
   "source": [
    "**Authors:**\n",
    "Jonas Juhler-Nøttrup (S164217), Niels Asp Fuglsang (S164181), Morten Wehlast Jørgensen (S147056), Jens Thuren Lindahl (S124347)\n",
    "\n",
    "## 42186 Model-based Machine Learning - Bayesian Spatial Count\n",
    "\n",
    "Research topic: How may we model non-linear dependencies on the inputs $\\textbf{X}_n$?\n",
    "\n",
    "More specifically, we wish to determine the advantages and disadvantages of the following approaches:\n",
    "- Neural network \n",
    "- Hierarchical modelling\n",
    "\n",
    "For each area $n$ in data set, we observe a count of injuries, $y_n$. \n",
    "The normal apprach is to assume linear dependence such that\n",
    "$$\n",
    "y_n \\sim \\text{NB}(r, p_n) \\\\\n",
    "p_n= \\frac{\\exp(\\psi_n)}{1+\\exp(\\psi_n)} \\\\\n",
    "\\psi_n = \\beta^T\\textbf{X}_n+\\phi_n\n",
    "$$\n",
    "\n",
    "Where $\\textbf{X}_n$ are the characteristics of the area and $\\phi_n$ is a correlated error term with mean 0 and standard deviation $\\sigma$.\n",
    "\n",
    "### Neural Network\n",
    "\n",
    "Let $\\textbf{X}_n$ denote the characteristics of the n'th area. We now split the characteristics into a set of inputs for our linear term, $\\textbf{X}'_n$ and a set of inputs for our non-linear term, $\\textbf{X}^*_n$, such that\n",
    "$$\n",
    "\\psi_n = \\beta^T\\textbf{X}'_n+f_{\\text{nnet}}(\\textbf{X}^*_n)+\\phi_n.\n",
    "$$\n",
    "\n",
    "#### PGM\n",
    "![image info](./neural_net_pgm.jpg)\n",
    "\n",
    "\n",
    "#### Generative Process\n",
    "\n",
    "<ol>\n",
    "    <li> Set hyperparameter $r$. </li>\n",
    "    <li> Set hyperparameter $\\sigma$. </li>\n",
    "    <li> Draw linear coefficients $\\beta \\sim N(\\beta|\\textbf{0},\\lambda \\textbf{I})$</li>\n",
    "    <li> Draw non-linear coefficients for neural net $\\theta \\sim N(\\theta|\\textbf{0},\\tau \\textbf{I})$</li>\n",
    "    <li> For the i'th observation </li>\n",
    "    <ol>\n",
    "        <li> Draw $\\psi_n \\sim N(\\psi_n | \\beta^T\\textbf{X}'_n+f_{\\text{nnet}}(\\textbf{X}^*_n), \\sigma^2)$</li>\n",
    "        <li> Compute $p_n$. </li>\n",
    "        <li> Draw $y_n \\sim \\text{NB}(r, p_n)$</li>\n",
    "    </ol>\n",
    "</ol>\n",
    "\n",
    "### Hierarchical model\n",
    "In the hierarchical model we follow the normal approach outlined in the beginning with an added hierarchical layer. By inspection of the data, we see that groupings can be made based on feature `County`. This means that we can fit $k$ sets of coefficients given by $(\\beta_1, \\beta_2, \\dots, \\beta_k)$, where $\\beta_i$ denote the coefficients associated with county $i$. Similarly, we introduce a shared global prior, that prevents overfitting by reducing the flexibility of the model. If we let $k_n$ denote the group that the n'th observation belongs to then the only modification to the normal approach is that we compute $\\psi_n$ based on $\\beta_{k_n}$.\n",
    "\n",
    "$$\n",
    "\\psi_n = \\beta_{k_n}^T\\textbf{X}_n+\\phi_n\n",
    "$$\n",
    "\n",
    "#### PGM\n",
    "![image info](./hierarchical.jpg)\n",
    "\n",
    "#### Generative Process\n",
    "<ol>\n",
    "    <li> Draw parameter $r \\sim \\text{Gamma}(\\alpha, \\beta)$ . </li>\n",
    "    <li> Draw parameter $\\sigma \\sim \\text{HalfCauchy}(1)$. </li>\n",
    "    <li> For each group $k \\in \\{1, \\dots, K\\}$ </li>\n",
    "    <ol>\n",
    "        <li> Draw linear coefficients $\\beta_k \\sim N(\\beta|\\textbf{0},\\lambda\\textbf{I})$</li>\n",
    "    </ol>\n",
    "    <li> For the i'th observation </li>\n",
    "    <ol>\n",
    "        <li> Draw $\\psi_n \\sim N(\\psi_n | \\beta_{k_n}^T\\textbf{X}'_n+f_{\\text{nnet}}(\\textbf{X}^*_n), \\sigma^2)$</li>\n",
    "        <li> Compute $p_n$. </li>\n",
    "        <li> Draw $y_n \\sim \\text{NB}(r, p_n)$</li>\n",
    "    </ol>\n",
    "</ol>\n",
    "\n",
    "\n",
    "## Data\n",
    "https://figshare.com/articles/dataset/Data_for_Bayesian_Hierarchical_Spatial_Models_nmplementing_the_Besag_York_Molli_Model_nn_Stan/9729149/1\n",
    "\n",
    "https://transition.fcc.gov/form477/Geo/more_about_census_tracts.pdf"
   ]
  },
  {
   "cell_type": "code",
   "execution_count": 1,
   "metadata": {},
   "outputs": [],
   "source": [
    "# Load packages\n",
    "import pandas as pd\n",
    "from matplotlib import pyplot as plt"
   ]
  },
  {
   "cell_type": "markdown",
   "metadata": {},
   "source": [
    "## Data description\n",
    "The data set consists of 7 features\n",
    " - `census_tract` ID for the census/region. Nominal, integer.\n",
    " - `ped_nnjury_5to18` Number of injuries for pedestrians aged 5-18 in the years 2005-2014. Ratio, integer.\n",
    " - `youth_pop_5to18` Population of youths aged aged 5-18 within the census/region in 2010. Ratio, integer.\n",
    " - `commute_priv_vehicle` Percentage commuters who traveled to work primarily by a private vehicle, from the American Community Survey for the years 2010-2014. Ration, continuous.\n",
    " - `med_hhincome` Median household income from American Community Survey for the years 2010-2014. Interval, integer.\n",
    " - `avg_ann_daily_traffic` Maximum value of street-level annual average daily traffic values for that census tract from 2015. Interval, integer.\n",
    " - `fragment_nndex` A combined metric consisting of standardized data describing; estimates of vacant housing units, householders living alone, non-owner occupied housing units and population having moved within the previous year. Interval, continuous.\n",
    " \n",
    " \n",
    "The project will treat `ped_nnjury_5to18` as the dependent variable $y$. \n",
    "\n",
    "First, we will look at some descriptive statistics for all non-nominal features.<br>\n",
    "Next, we visualize them to get a better understanding of their distributions."
   ]
  },
  {
   "cell_type": "markdown",
   "metadata": {},
   "source": [
    "## Descriptive Statistics"
   ]
  },
  {
   "cell_type": "code",
   "execution_count": 2,
   "metadata": {},
   "outputs": [
    {
     "data": {
      "text/html": [
       "<div>\n",
       "<style scoped>\n",
       "    .dataframe tbody tr th:only-of-type {\n",
       "        vertical-align: middle;\n",
       "    }\n",
       "\n",
       "    .dataframe tbody tr th {\n",
       "        vertical-align: top;\n",
       "    }\n",
       "\n",
       "    .dataframe thead th {\n",
       "        text-align: right;\n",
       "    }\n",
       "</style>\n",
       "<table border=\"1\" class=\"dataframe\">\n",
       "  <thead>\n",
       "    <tr style=\"text-align: right;\">\n",
       "      <th></th>\n",
       "      <th>ped_injury_5to18</th>\n",
       "      <th>youth_pop_5to18</th>\n",
       "      <th>commute_priv_vehicle</th>\n",
       "      <th>med_hhincome</th>\n",
       "      <th>avg_ann_daily_traffic</th>\n",
       "      <th>fragment_index</th>\n",
       "    </tr>\n",
       "  </thead>\n",
       "  <tbody>\n",
       "    <tr>\n",
       "      <th>count</th>\n",
       "      <td>2095.000000</td>\n",
       "      <td>2095.000000</td>\n",
       "      <td>2095.000000</td>\n",
       "      <td>2095.000000</td>\n",
       "      <td>2095.000000</td>\n",
       "      <td>2.095000e+03</td>\n",
       "    </tr>\n",
       "    <tr>\n",
       "      <th>mean</th>\n",
       "      <td>8.206683</td>\n",
       "      <td>596.447255</td>\n",
       "      <td>0.302574</td>\n",
       "      <td>58496.796181</td>\n",
       "      <td>37247.564932</td>\n",
       "      <td>-3.818519e-12</td>\n",
       "    </tr>\n",
       "    <tr>\n",
       "      <th>std</th>\n",
       "      <td>7.454526</td>\n",
       "      <td>370.046583</td>\n",
       "      <td>0.191031</td>\n",
       "      <td>28567.156059</td>\n",
       "      <td>43316.943386</td>\n",
       "      <td>2.677234e+00</td>\n",
       "    </tr>\n",
       "    <tr>\n",
       "      <th>min</th>\n",
       "      <td>0.000000</td>\n",
       "      <td>6.000000</td>\n",
       "      <td>0.000000</td>\n",
       "      <td>9327.000000</td>\n",
       "      <td>843.000000</td>\n",
       "      <td>-6.728742e+00</td>\n",
       "    </tr>\n",
       "    <tr>\n",
       "      <th>25%</th>\n",
       "      <td>3.000000</td>\n",
       "      <td>326.000000</td>\n",
       "      <td>0.145954</td>\n",
       "      <td>38624.000000</td>\n",
       "      <td>12341.000000</td>\n",
       "      <td>-1.818569e+00</td>\n",
       "    </tr>\n",
       "    <tr>\n",
       "      <th>50%</th>\n",
       "      <td>6.000000</td>\n",
       "      <td>510.000000</td>\n",
       "      <td>0.260870</td>\n",
       "      <td>53882.000000</td>\n",
       "      <td>19178.000000</td>\n",
       "      <td>-1.085420e-01</td>\n",
       "    </tr>\n",
       "    <tr>\n",
       "      <th>75%</th>\n",
       "      <td>11.500000</td>\n",
       "      <td>789.500000</td>\n",
       "      <td>0.439009</td>\n",
       "      <td>72928.500000</td>\n",
       "      <td>37201.000000</td>\n",
       "      <td>1.436548e+00</td>\n",
       "    </tr>\n",
       "    <tr>\n",
       "      <th>max</th>\n",
       "      <td>57.000000</td>\n",
       "      <td>3315.000000</td>\n",
       "      <td>0.902256</td>\n",
       "      <td>232266.000000</td>\n",
       "      <td>276476.000000</td>\n",
       "      <td>1.867200e+01</td>\n",
       "    </tr>\n",
       "  </tbody>\n",
       "</table>\n",
       "</div>"
      ],
      "text/plain": [
       "       ped_injury_5to18  youth_pop_5to18  commute_priv_vehicle   med_hhincome  \\\n",
       "count       2095.000000      2095.000000           2095.000000    2095.000000   \n",
       "mean           8.206683       596.447255              0.302574   58496.796181   \n",
       "std            7.454526       370.046583              0.191031   28567.156059   \n",
       "min            0.000000         6.000000              0.000000    9327.000000   \n",
       "25%            3.000000       326.000000              0.145954   38624.000000   \n",
       "50%            6.000000       510.000000              0.260870   53882.000000   \n",
       "75%           11.500000       789.500000              0.439009   72928.500000   \n",
       "max           57.000000      3315.000000              0.902256  232266.000000   \n",
       "\n",
       "       avg_ann_daily_traffic  fragment_index  \n",
       "count            2095.000000    2.095000e+03  \n",
       "mean            37247.564932   -3.818519e-12  \n",
       "std             43316.943386    2.677234e+00  \n",
       "min               843.000000   -6.728742e+00  \n",
       "25%             12341.000000   -1.818569e+00  \n",
       "50%             19178.000000   -1.085420e-01  \n",
       "75%             37201.000000    1.436548e+00  \n",
       "max            276476.000000    1.867200e+01  "
      ]
     },
     "execution_count": 2,
     "metadata": {},
     "output_type": "execute_result"
    }
   ],
   "source": [
    "nominals = [\"census_tract\"]\n",
    "df = pd.read_csv(\"data/bym_nyc_study.csv\")\n",
    "df_nn = df[df.columns[~df.columns.isin(nominals)]] # Select all non-nominals for description\n",
    "df_nn.describe() # Select all non-nominals for description"
   ]
  },
  {
   "cell_type": "code",
   "execution_count": 3,
   "metadata": {},
   "outputs": [
    {
     "data": {
      "image/png": "[encoded data removed]",
      "text/plain": [
       "<Figure size 1728x1152 with 6 Axes>"
      ]
     },
     "metadata": {
      "needs_background": "light"
     },
     "output_type": "display_data"
    }
   ],
   "source": [
    "fig, axes = plt.subplots(len(df_nn.columns)//3, 3, figsize=(24, 16))\n",
    "\n",
    "i = 0\n",
    "for triaxis in axes:\n",
    "    for axis in triaxis:\n",
    "        df_nn.hist(column = df_nn.columns[i], bins = 100, ax=axis)\n",
    "        i = i+1"
   ]
  },
  {
   "cell_type": "code",
   "execution_count": 4,
   "metadata": {},
   "outputs": [],
   "source": [
    "df_census = pd.read_csv(\"data/nyc_census_tracts.csv\")\n",
    "merged_df = df.merge(df_census, how=\"left\", left_on=\"census_tract\", right_on=\"CensusTract\")"
   ]
  },
  {
   "cell_type": "code",
   "execution_count": 5,
   "metadata": {},
   "outputs": [
    {
     "data": {
      "image/png": "[encoded data removed]",
      "text/plain": [
       "<Figure size 432x288 with 1 Axes>"
      ]
     },
     "metadata": {
      "needs_background": "light"
     },
     "output_type": "display_data"
    }
   ],
   "source": [
    "fig, ax = plt.subplots(1,1)\n",
    "merged_df.groupby(\"County\").count().plot.bar(y=\"census_tract\", ax=ax, rot=0)\n",
    "plt.show()"
   ]
  },
  {
   "cell_type": "code",
   "execution_count": null,
   "metadata": {},
   "outputs": [],
   "source": []
  }
 ],
 "metadata": {
  "kernelspec": {
   "display_name": "Python 3",
   "language": "python",
   "name": "python3"
  },
  "language_info": {
   "codemirror_mode": {
    "name": "ipython",
    "version": 3
   },
   "file_extension": ".py",
   "mimetype": "text/x-python",
   "name": "python",
   "nbconvert_exporter": "python",
   "pygments_lexer": "ipython3",
   "version": "3.8.5"
  }
 },
 "nbformat": 4,
 "nbformat_minor": 4
}
