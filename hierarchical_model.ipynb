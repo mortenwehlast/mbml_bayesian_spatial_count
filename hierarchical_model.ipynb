{
 "cells": [
  {
   "cell_type": "code",
   "execution_count": 209,
   "metadata": {},
   "outputs": [],
   "source": [
    "import matplotlib.pyplot as plt\n",
    "import numpy as np\n",
    "import torch\n",
    "import seaborn as sns\n",
    "from torch.distributions.utils import logits_to_probs\n",
    "\n",
    "from sklearn import linear_model\n",
    "import pyro\n",
    "import pyro.distributions as dist\n",
    "from pyro.contrib.autoguide import AutoDiagonalNormal\n",
    "from pyro.infer import SVI, Trace_ELBO\n",
    "from pyro.optim import ClippedAdam\n",
    "\n",
    "from src.utils import load_data"
   ]
  },
  {
   "cell_type": "markdown",
   "metadata": {},
   "source": [
    "### Load data"
   ]
  },
  {
   "cell_type": "code",
   "execution_count": 210,
   "metadata": {},
   "outputs": [
    {
     "name": "stdout",
     "output_type": "stream",
     "text": [
      "   youth_pop_5to18  commute_priv_vehicle  med_hhincome  avg_ann_daily_traffic  \\\n",
      "0              894              0.634634         74837                 8682.0   \n",
      "1             1158              0.494977         77991                16917.0   \n",
      "2             1120              0.422405         32354                22712.0   \n",
      "3              281              0.199795         34635               124767.0   \n",
      "4             1998              0.286795         23423                10219.0   \n",
      "\n",
      "   fragment_index  TotalPop   Men  Women  Hispanic  White  ...  Transit  Walk  \\\n",
      "0       -3.061385      5403  2659   2744      75.8    2.3  ...     38.6   2.9   \n",
      "1       -2.915361      5915  2896   3019      62.7    3.6  ...     44.6   1.4   \n",
      "2       -0.227456      5879  2558   3321      65.1    1.6  ...     45.5   8.6   \n",
      "3        3.029461      2591  1206   1385      55.4    9.0  ...     63.9   3.0   \n",
      "4        0.165237      8516  3301   5215      61.1    1.6  ...     68.2   4.3   \n",
      "\n",
      "   OtherTransp  WorkAtHome  Employed  PrivateWork  PublicWork  SelfEmployed  \\\n",
      "0          0.0         0.0      2308         80.8        16.2           2.9   \n",
      "1          0.5         2.1      2675         71.7        25.3           2.5   \n",
      "2          1.6         1.7      2120         75.0        21.3           3.8   \n",
      "3          2.4         6.2      1083         76.8        15.5           7.7   \n",
      "4          1.0         0.0      2508         71.0        21.3           7.7   \n",
      "\n",
      "   FamilyWork  Unemployment  \n",
      "0         0.0           7.7  \n",
      "1         0.6           9.5  \n",
      "2         0.0           8.7  \n",
      "3         0.0          19.2  \n",
      "4         0.0          17.2  \n",
      "\n",
      "[5 rows x 35 columns]\n",
      "X-shape: (2095, 35), y-shape: (2095,)\n"
     ]
    }
   ],
   "source": [
    "X, y, k = load_data()\n",
    "print(X.head())\n",
    "X = X.values\n",
    "y = y.values\n",
    "print('X-shape: {}, y-shape: {}'.format(X.shape, y.shape)) "
   ]
  },
  {
   "cell_type": "markdown",
   "metadata": {},
   "source": [
    "##### Prepare data for model."
   ]
  },
  {
   "cell_type": "code",
   "execution_count": 211,
   "metadata": {},
   "outputs": [],
   "source": [
    "# standardize input features\n",
    "X_mean = X.mean(axis=0)\n",
    "X_std = X.std(axis=0)\n",
    "X = (X - X_mean) / X_std"
   ]
  },
  {
   "cell_type": "markdown",
   "metadata": {},
   "source": [
    "##### Baseline linear regression"
   ]
  },
  {
   "cell_type": "code",
   "execution_count": 212,
   "metadata": {},
   "outputs": [
    {
     "name": "stdout",
     "output_type": "stream",
     "text": [
      "num train: 1382\n",
      "num test: 713\n",
      "first 5 predictions: [ 3.66531802  8.51319484 10.03699891  4.84387705  6.42243343]\n",
      "first 5 true values: [8 3 7 2 0]\n",
      "MSE: 36.77822935669557\n"
     ]
    }
   ],
   "source": [
    "train_perc = 0.66 # percentage of training data\n",
    "split_point = int(train_perc*len(y))\n",
    "perm = np.random.permutation(len(y))\n",
    "ix_train = perm[:split_point]\n",
    "ix_test = perm[split_point:]\n",
    "X_train = X[ix_train,:]\n",
    "X_test = X[ix_test,:]\n",
    "k_train = k[ix_train]\n",
    "k_test = k[ix_test]\n",
    "y_train = y[ix_train]\n",
    "y_test = y[ix_test]\n",
    "print(\"num train: %d\" % len(y_train))\n",
    "print(\"num test: %d\" % len(y_test))\n",
    "\n",
    "# create and fit logistic regression model\n",
    "logreg = linear_model.LinearRegression()\n",
    "logreg.fit(X_train, y_train)\n",
    "\n",
    "# make predictions for test set\n",
    "y_hat = logreg.predict(X_test)\n",
    "print(\"first 5 predictions:\", y_hat[:5])\n",
    "print(\"first 5 true values:\", y_test[:5])\n",
    "\n",
    "# evaluate prediction accuracy\n",
    "print(\"MSE:\", sum((y_hat - y_test)**2)/len(y_hat))"
   ]
  },
  {
   "cell_type": "markdown",
   "metadata": {},
   "source": [
    "### Define model"
   ]
  },
  {
   "cell_type": "markdown",
   "metadata": {},
   "source": [
    "**Generative Process**\n",
    "<ol>\n",
    "    <li> Draw parameter $r \\sim \\text{Gamma}(\\alpha, \\beta)$ . </li>\n",
    "    <li> Draw parameter $\\sigma \\sim \\text{HalfCauchy}(1)$. </li>\n",
    "    <li> For each group $k \\in \\{1, \\dots, K\\}$ </li>\n",
    "    <ol>\n",
    "        <li> Draw linear coefficients $\\beta_k \\sim N(\\beta|\\textbf{0},\\lambda\\textbf{I})$</li>\n",
    "    </ol>\n",
    "    <li> For the i'th observation </li>\n",
    "    <ol>\n",
    "        <li> Draw $\\psi_n \\sim N(\\psi_n | \\beta_{k_n}^T\\textbf{X}'_n+f_{\\text{nnet}}(\\textbf{X}^*_n), \\sigma^2)$</li>\n",
    "        <li> OR Draw $\\psi_n \\sim N(\\psi_n | \\beta_{k_n}^T\\textbf{X}'_n, \\sigma^2)$</li>\n",
    "        <li> Compute $p_n$. </li>\n",
    "        <li> Draw $y_n \\sim \\text{NB}(r, p_n)$</li>\n",
    "    </ol>\n",
    "</ol>\n",
    "\n",
    "We could also try to fit an $r_k$ for each group.\n"
   ]
  },
  {
   "cell_type": "code",
   "execution_count": 213,
   "metadata": {},
   "outputs": [],
   "source": [
    "def hierarchical_model(X, k, n_k, obs=None):\n",
    "    \n",
    "    # Number of observations\n",
    "    N, n_feat = X.shape\n",
    "    \n",
    "    # Hyperparameters\n",
    "    r_gamma1 = 0.5\n",
    "    r_gamma2 = 1\n",
    "    beta_mu = 0\n",
    "    beta_sigma = 1\n",
    "\n",
    "    # Draw parameters.\n",
    "    r = pyro.sample(\"r\", dist.Gamma(r_gamma1, r_gamma2).to_event())\n",
    "    sigma = pyro.sample(\"sigma\", dist.HalfCauchy(1).to_event())\n",
    "    \n",
    "    with pyro.plate(\"group\", n_k):\n",
    "        # Draw the parameters for each group\n",
    "        beta = pyro.sample(\n",
    "            \"beta\",\n",
    "            dist.Normal(beta_mu*torch.ones(n_feat), beta_sigma*torch.ones(n_feat)).to_event()\n",
    "        )\n",
    "\n",
    "        \n",
    "    with pyro.plate(\"data\", N):\n",
    "        psi_mu = torch.matmul(X, beta[k].transpose(0,1)).diag() # Pretty stupid code beta[k][i] * X[i] for all i\n",
    "        psi = pyro.sample(\"psi\", dist.Normal(psi_mu, sigma))\n",
    "        pred = pyro.sample(\n",
    "            \"pred\",\n",
    "            dist.NegativeBinomial(r, logits=psi),\n",
    "            obs=obs\n",
    "        )\n",
    "    \n",
    "    return pred\n"
   ]
  },
  {
   "cell_type": "code",
   "execution_count": 214,
   "metadata": {},
   "outputs": [],
   "source": [
    "# Prepare data for Pyro model\n",
    "X_train = torch.tensor(X_train).float()\n",
    "y_train = torch.tensor(y_train).float()\n",
    "k_train = torch.tensor(k_train).long() # these are indices, therefore they need to be (long) integers\n",
    "n_k = len(np.unique(k))"
   ]
  },
  {
   "cell_type": "code",
   "execution_count": 222,
   "metadata": {},
   "outputs": [
    {
     "name": "stdout",
     "output_type": "stream",
     "text": [
      "[0] ELBO: 17916.5\n",
      "[500] ELBO: 4792.4\n",
      "[1000] ELBO: 4627.3\n",
      "CPU times: user 3min 20s, sys: 2.22 s, total: 3min 23s\n",
      "Wall time: 34.1 s\n"
     ]
    }
   ],
   "source": [
    "%%time\n",
    "\n",
    "# Define guide function.\n",
    "guide = AutoDiagonalNormal(hierarchical_model)\n",
    "\n",
    "# Reset parameter values.\n",
    "pyro.clear_param_store()\n",
    "\n",
    "# Define the number of optimization steps.\n",
    "n_steps = 1500\n",
    "\n",
    "# Setup the optimizer.\n",
    "adam_params = {\"lr\": 0.01}\n",
    "optimizer = ClippedAdam(adam_params)\n",
    "\n",
    "# Setup the inference algorithm.\n",
    "elbo = Trace_ELBO(num_particles=3)\n",
    "svi = SVI(hierarchical_model, guide, optimizer, loss=elbo)\n",
    "\n",
    "# Do gradient steps.\n",
    "for step in range(n_steps):\n",
    "    elbo = svi.step(X_train, k_train, n_k, y_train)\n",
    "    if step % 500 == 0:\n",
    "        print(\"[%d] ELBO: %.1f\" % (step, elbo))"
   ]
  },
  {
   "cell_type": "markdown",
   "metadata": {},
   "source": [
    "##### Visualizations of variable differences from county to county"
   ]
  },
  {
   "cell_type": "code",
   "execution_count": 223,
   "metadata": {},
   "outputs": [],
   "source": [
    "from pyro.infer import Predictive\n",
    "\n",
    "predictive = Predictive(hierarchical_model, guide=guide, num_samples=2000,\n",
    "                        return_sites=(\"beta\", \"r\", \"pred\"))\n",
    "samples = predictive(X_train, k_train, n_k, y_train)"
   ]
  },
  {
   "cell_type": "code",
   "execution_count": 224,
   "metadata": {},
   "outputs": [],
   "source": [
    "beta_samples = samples[\"beta\"].detach().numpy()\n",
    "r_samples = samples[\"r\"].detach().numpy()\n",
    "preds_samples = samples[\"pred\"].detach().numpy()"
   ]
  },
  {
   "cell_type": "code",
   "execution_count": 225,
   "metadata": {},
   "outputs": [
    {
     "name": "stderr",
     "output_type": "stream",
     "text": [
      "/Users/jjn/miniconda3/envs/mbased-ml/lib/python3.9/site-packages/seaborn/distributions.py:2557: FutureWarning: `distplot` is a deprecated function and will be removed in a future version. Please adapt your code to use either `displot` (a figure-level function with similar flexibility) or `histplot` (an axes-level function for histograms).\n",
      "  warnings.warn(msg, FutureWarning)\n",
      "/Users/jjn/miniconda3/envs/mbased-ml/lib/python3.9/site-packages/seaborn/distributions.py:2557: FutureWarning: `distplot` is a deprecated function and will be removed in a future version. Please adapt your code to use either `displot` (a figure-level function with similar flexibility) or `histplot` (an axes-level function for histograms).\n",
      "  warnings.warn(msg, FutureWarning)\n",
      "/Users/jjn/miniconda3/envs/mbased-ml/lib/python3.9/site-packages/seaborn/distributions.py:2557: FutureWarning: `distplot` is a deprecated function and will be removed in a future version. Please adapt your code to use either `displot` (a figure-level function with similar flexibility) or `histplot` (an axes-level function for histograms).\n",
      "  warnings.warn(msg, FutureWarning)\n",
      "/Users/jjn/miniconda3/envs/mbased-ml/lib/python3.9/site-packages/seaborn/distributions.py:2557: FutureWarning: `distplot` is a deprecated function and will be removed in a future version. Please adapt your code to use either `displot` (a figure-level function with similar flexibility) or `histplot` (an axes-level function for histograms).\n",
      "  warnings.warn(msg, FutureWarning)\n",
      "/Users/jjn/miniconda3/envs/mbased-ml/lib/python3.9/site-packages/seaborn/distributions.py:2557: FutureWarning: `distplot` is a deprecated function and will be removed in a future version. Please adapt your code to use either `displot` (a figure-level function with similar flexibility) or `histplot` (an axes-level function for histograms).\n",
      "  warnings.warn(msg, FutureWarning)\n"
     ]
    },
    {
     "data": {
      "image/png": "[encoded data removed]",
      "text/plain": [
       "<Figure size 432x288 with 1 Axes>"
      ]
     },
     "metadata": {
      "needs_background": "light"
     },
     "output_type": "display_data"
    }
   ],
   "source": [
    "beta_index = 2\n",
    "\n",
    "for k in range(n_k):\n",
    "    sns.distplot(beta_samples[:,k,beta_index])\n",
    "plt.legend([\"beta0[%d]\" % c for c in range(n_k)])\n",
    "plt.show()"
   ]
  },
  {
   "cell_type": "markdown",
   "metadata": {},
   "source": [
    "##### MSE for model"
   ]
  },
  {
   "cell_type": "code",
   "execution_count": 226,
   "metadata": {},
   "outputs": [
    {
     "name": "stdout",
     "output_type": "stream",
     "text": [
      "MSE: 194.22737033565105\n"
     ]
    }
   ],
   "source": [
    "beta = beta_samples.mean(axis=0)\n",
    "r = r_samples.mean(axis=0)\n",
    "psi = (beta[k_test] @ X_test.T).diagonal()\n",
    "d = dist.NegativeBinomial(torch.tensor(r), logits=torch.tensor(psi))\n",
    "y_hat = np.array(d.mean)\n",
    "# evaluate prediction accuracy\n",
    "print(\"MSE:\", sum((y_hat - y_test)**2)/len(y_hat))"
   ]
  },
  {
   "cell_type": "code",
   "execution_count": null,
   "metadata": {},
   "outputs": [],
   "source": []
  }
 ],
 "metadata": {
  "kernelspec": {
   "display_name": "Python 3",
   "language": "python",
   "name": "python3"
  },
  "language_info": {
   "codemirror_mode": {
    "name": "ipython",
    "version": 3
   },
   "file_extension": ".py",
   "mimetype": "text/x-python",
   "name": "python",
   "nbconvert_exporter": "python",
   "pygments_lexer": "ipython3",
   "version": "3.9.2"
  }
 },
 "nbformat": 4,
 "nbformat_minor": 4
}
